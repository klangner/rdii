{
 "cells": [
  {
   "cell_type": "markdown",
   "metadata": {},
   "source": [
    "# Rainfall"
   ]
  },
  {
   "cell_type": "code",
   "execution_count": 4,
   "metadata": {},
   "outputs": [],
   "source": [
    "%matplotlib inline\n",
    "from datetime import timedelta\n",
    "import pandas as pd\n",
    "from collections import namedtuple\n",
    "from rdii.rain import find_rain_periods\n",
    "import matplotlib.pyplot as plt\n",
    "from pylab import rcParams\n",
    "rcParams['figure.figsize'] = 14, 6"
   ]
  },
  {
   "cell_type": "markdown",
   "metadata": {},
   "source": [
    "## Load and clean data"
   ]
  },
  {
   "cell_type": "code",
   "execution_count": 2,
   "metadata": {},
   "outputs": [
    {
     "name": "stdout",
     "output_type": "stream",
     "text": [
      "time\n",
      "2014-10-24 00:00:00    0.0\n",
      "2014-10-24 01:00:00    0.0\n",
      "2014-10-24 02:00:00    0.0\n",
      "2014-10-24 03:00:00    0.0\n",
      "2014-10-24 04:00:00    0.0\n",
      "Freq: H, Name: rainfall, dtype: float64\n",
      "count    30419.000000\n",
      "mean         0.084427\n",
      "std          0.691375\n",
      "min          0.000000\n",
      "25%          0.000000\n",
      "50%          0.000000\n",
      "75%          0.000000\n",
      "max         44.000000\n",
      "Name: rainfall, dtype: float64\n"
     ]
    }
   ],
   "source": [
    "df = pd.read_csv('../testdata/rainfall1.csv.gz', index_col='time', parse_dates=['time'])\n",
    "rainfall = df['rainfall'].fillna(0).resample('1H').sum()\n",
    "print(rainfall.head())\n",
    "print(rainfall.describe())"
   ]
  },
  {
   "cell_type": "code",
   "execution_count": 5,
   "metadata": {},
   "outputs": [
    {
     "name": "stdout",
     "output_type": "stream",
     "text": [
      "Found 837 rain events\n"
     ]
    }
   ],
   "source": [
    "rains = find_rain_periods(rainfall)\n",
    "print('Found {} rain events'.format(len(rains)))"
   ]
  },
  {
   "cell_type": "code",
   "execution_count": 6,
   "metadata": {},
   "outputs": [
    {
     "name": "stdout",
     "output_type": "stream",
     "text": [
      "15 ms ± 129 µs per loop (mean ± std. dev. of 7 runs, 100 loops each)\n"
     ]
    }
   ],
   "source": [
    "%timeit find_rain_periods(rainfall)"
   ]
  },
  {
   "cell_type": "code",
   "execution_count": 7,
   "metadata": {},
   "outputs": [
    {
     "data": {
      "text/html": [
       "<div>\n",
       "<style scoped>\n",
       "    .dataframe tbody tr th:only-of-type {\n",
       "        vertical-align: middle;\n",
       "    }\n",
       "\n",
       "    .dataframe tbody tr th {\n",
       "        vertical-align: top;\n",
       "    }\n",
       "\n",
       "    .dataframe thead th {\n",
       "        text-align: right;\n",
       "    }\n",
       "</style>\n",
       "<table border=\"1\" class=\"dataframe\">\n",
       "  <thead>\n",
       "    <tr style=\"text-align: right;\">\n",
       "      <th></th>\n",
       "      <th>start_date</th>\n",
       "      <th>end_date</th>\n",
       "      <th>intensity</th>\n",
       "    </tr>\n",
       "  </thead>\n",
       "  <tbody>\n",
       "    <tr>\n",
       "      <th>691</th>\n",
       "      <td>2017-06-17 13:00:00</td>\n",
       "      <td>2017-06-17 15:00:00</td>\n",
       "      <td>44.000000</td>\n",
       "    </tr>\n",
       "    <tr>\n",
       "      <th>718</th>\n",
       "      <td>2017-07-07 18:00:00</td>\n",
       "      <td>2017-07-07 19:00:00</td>\n",
       "      <td>33.000000</td>\n",
       "    </tr>\n",
       "    <tr>\n",
       "      <th>137</th>\n",
       "      <td>2015-06-05 15:00:00</td>\n",
       "      <td>2015-06-05 16:00:00</td>\n",
       "      <td>25.000000</td>\n",
       "    </tr>\n",
       "    <tr>\n",
       "      <th>206</th>\n",
       "      <td>2015-09-19 14:00:00</td>\n",
       "      <td>2015-09-19 17:00:00</td>\n",
       "      <td>24.400000</td>\n",
       "    </tr>\n",
       "    <tr>\n",
       "      <th>726</th>\n",
       "      <td>2017-07-20 10:00:00</td>\n",
       "      <td>2017-07-20 12:00:00</td>\n",
       "      <td>23.800000</td>\n",
       "    </tr>\n",
       "    <tr>\n",
       "      <th>413</th>\n",
       "      <td>2016-06-11 03:00:00</td>\n",
       "      <td>2016-06-11 04:00:00</td>\n",
       "      <td>23.400000</td>\n",
       "    </tr>\n",
       "    <tr>\n",
       "      <th>423</th>\n",
       "      <td>2016-08-01 11:00:00</td>\n",
       "      <td>2016-08-01 13:00:00</td>\n",
       "      <td>21.000000</td>\n",
       "    </tr>\n",
       "    <tr>\n",
       "      <th>184</th>\n",
       "      <td>2015-08-10 12:00:00</td>\n",
       "      <td>2015-08-10 18:00:00</td>\n",
       "      <td>20.800000</td>\n",
       "    </tr>\n",
       "    <tr>\n",
       "      <th>736</th>\n",
       "      <td>2017-08-02 16:00:00</td>\n",
       "      <td>2017-08-02 19:00:00</td>\n",
       "      <td>19.600000</td>\n",
       "    </tr>\n",
       "    <tr>\n",
       "      <th>156</th>\n",
       "      <td>2015-06-22 21:00:00</td>\n",
       "      <td>2015-06-23 04:00:00</td>\n",
       "      <td>19.400001</td>\n",
       "    </tr>\n",
       "  </tbody>\n",
       "</table>\n",
       "</div>"
      ],
      "text/plain": [
       "             start_date            end_date  intensity\n",
       "691 2017-06-17 13:00:00 2017-06-17 15:00:00  44.000000\n",
       "718 2017-07-07 18:00:00 2017-07-07 19:00:00  33.000000\n",
       "137 2015-06-05 15:00:00 2015-06-05 16:00:00  25.000000\n",
       "206 2015-09-19 14:00:00 2015-09-19 17:00:00  24.400000\n",
       "726 2017-07-20 10:00:00 2017-07-20 12:00:00  23.800000\n",
       "413 2016-06-11 03:00:00 2016-06-11 04:00:00  23.400000\n",
       "423 2016-08-01 11:00:00 2016-08-01 13:00:00  21.000000\n",
       "184 2015-08-10 12:00:00 2015-08-10 18:00:00  20.800000\n",
       "736 2017-08-02 16:00:00 2017-08-02 19:00:00  19.600000\n",
       "156 2015-06-22 21:00:00 2015-06-23 04:00:00  19.400001"
      ]
     },
     "execution_count": 7,
     "metadata": {},
     "output_type": "execute_result"
    }
   ],
   "source": [
    "sorted_rains = rains.sort_values('intensity', ascending=False)\n",
    "sorted_rains.head(10)"
   ]
  },
  {
   "cell_type": "code",
   "execution_count": 8,
   "metadata": {},
   "outputs": [
    {
     "data": {
      "image/png": "[encoded data removed]",
      "text/plain": [
       "<Figure size 1008x432 with 1 Axes>"
      ]
     },
     "metadata": {
      "needs_background": "light"
     },
     "output_type": "display_data"
    }
   ],
   "source": [
    "def plot_rain(ds, start_date, end_date):\n",
    "    ds2 = ds[start:end]\n",
    "    plt.bar(ds2.index, ds2, 0.01, edgecolor='lightblue', color='lightblue')\n",
    "    plt.show()\n",
    "    \n",
    "index = 7\n",
    "start = sorted_rains.iloc[index]['start_date'].date()\n",
    "end = sorted_rains.iloc[index]['end_date'].date() + timedelta(days=1)\n",
    "plot_rain(rainfall, start, end)"
   ]
  },
  {
   "cell_type": "code",
   "execution_count": null,
   "metadata": {},
   "outputs": [],
   "source": []
  }
 ],
 "metadata": {
  "kernelspec": {
   "display_name": "Python 3",
   "language": "python",
   "name": "python3"
  },
  "language_info": {
   "codemirror_mode": {
    "name": "ipython",
    "version": 3
   },
   "file_extension": ".py",
   "mimetype": "text/x-python",
   "name": "python",
   "nbconvert_exporter": "python",
   "pygments_lexer": "ipython3",
   "version": "3.7.1"
  }
 },
 "nbformat": 4,
 "nbformat_minor": 2
}
